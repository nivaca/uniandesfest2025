{
 "cells": [
  {
   "cell_type": "markdown",
   "id": "985d07ac-b6bd-44f7-b916-da00032e14a2",
   "metadata": {},
   "source": [
    "# Taller de Literatura Electrónica\n",
    "## [Nicolás Vaughan](https://posgradosfacartes.uniandes.edu.co/miembro/nicolas-vaughan-caro/)"
   ]
  },
  {
   "cell_type": "markdown",
   "id": "aefa525f-0fe3-4387-91a4-ad891c1a2073",
   "metadata": {},
   "source": [
    "## [*Continuidad de los parques*](https://www.youtube.com/watch?v=yR1Pdlab474)\n",
    "### Julio Cortázar\n",
    "\n",
    "Había empezado a leer la novela unos días antes. La abandonó por negocios urgentes, volvió a abrirla cuando regresaba en tren a la finca; se dejaba interesar lentamente por la trama, por el dibujo de los personajes. Esa tarde, después de escribir una carta a su apoderado y discutir con el mayordomo una cuestión de aparcerías, volvió al libro en la tranquilidad del estudio que miraba hacia el parque de los robles. Arrellanado en su sillón favorito, de espaldas a la puerta que lo hubiera molestado como una irritante posibilidad de intrusiones, dejó que su mano izquierda acariciara una y otra vez el terciopelo verde y se puso a leer los últimos capítulos. Su memoria retenía sin esfuerzo los nombres y las imágenes de los protagonistas; la ilusión novelesca lo ganó casi en seguida. Gozaba del placer casi perverso de irse desgajando línea a línea de lo que lo rodeaba, y sentir a la vez que su cabeza descansaba cómodamente en el terciopelo del alto respaldo, que los cigarrillos seguían al alcance de la mano, que más allá de los ventanales danzaba el aire del atardecer bajo los robles. Palabra a palabra, absorbido por la sórdida disyuntiva de los héroes, dejándose ir hacia las imágenes que se concertaban y adquirían color y movimiento, fue testigo del último encuentro en la cabaña del monte. Primero entraba la mujer, recelosa; ahora llegaba el amante, lastimada la cara por el chicotazo de una rama. Admirablemente restañaba ella la sangre con sus besos, pero él rechazaba las caricias, no había venido para repetir las ceremonias de una pasión secreta, protegida por un mundo de hojas secas y senderos furtivos. El puñal se entibiaba contra su pecho, y debajo latía la libertad agazapada. Un diálogo anhelante corría por las páginas como un arroyo de serpientes, y se sentía que todo estaba decidido desde siempre. Hasta esas caricias que enredaban el cuerpo del amante como queriendo retenerlo y disuadirlo, dibujaban abominablemente la figura de otro cuerpo que era necesario destruir. Nada había sido olvidado: coartadas, azares, posibles errores. A partir de esa hora cada instante tenía su empleo minuciosamente atribuido. El doble repaso despiadado se interrumpía apenas para que una mano acariciara una mejilla. Empezaba a anochecer.\n",
    "\n",
    "Sin mirarse ya, atados rígidamente a la tarea que los esperaba, se separaron en la puerta de la cabaña. Ella debía seguir por la senda que iba al norte. Desde la senda opuesta él se volvió un instante para verla correr con el pelo suelto. Corrió a su vez, parapetándose en los árboles y los setos, hasta distinguir en la bruma malva del crepúsculo la alameda que llevaba a la casa. Los perros no debían ladrar, y no ladraron. El mayordomo no estaría a esa hora, y no estaba. Subió los tres peldaños del porche y entró. Desde la sangre galopando en sus oídos le llegaban las palabras de la mujer: primero una sala azul, después una galería, una escalera alfombrada. En lo alto, dos puertas. Nadie en la primera habitación, nadie en la segunda. La puerta del salón, y entonces el puñal en la mano, la luz de los ventanales, el alto respaldo de un sillón de terciopelo verde, la cabeza del hombre en el sillón leyendo una novela.\n",
    "\n",
    "(*Final del juego*, 1956)\n",
    "\n",
    "<img src=\"cortazar.webp\" alt=\"Julio Cortázar\" width=\"500\"> \n",
    "\n",
    "<br/>\n"
   ]
  },
  {
   "cell_type": "markdown",
   "id": "dc6e70ef-477c-48f2-8b12-e608c0051826",
   "metadata": {},
   "source": [
    "## [*Tergiversaciones*](https://www.youtube.com/watch?v=MTtBBVXOjU8)\n",
    "### León de Greiff\n",
    "\n",
    "```\n",
    "Porque me ven la barba y el pelo y la alta pipa\n",
    "dicen que soy poeta..., cuando no porque iluso\n",
    "suelo rimar —en verso de contorno difuso—\n",
    "mi viaje byroniano por las vegas del Zipa...,\n",
    "\n",
    "tal un ventripotente agrómena de jipa\n",
    "a quien por un capricho de su caletre obtuso\n",
    "se le antoja, fingirse paraísos...! ¡al uso\n",
    "de alucinado Poe que el alcohol destripa!,\n",
    "\n",
    "de Baudelaire diabólico, de angelical Verlaine,\n",
    "de Arthur Rimbaud malévolo, de sensorial Rubén,\n",
    "y en fin... ¡hasta del Padre Víctor Hugo omniforme...!\n",
    "\n",
    "¡Y tánta tierra inútil por escasez de músculos!\n",
    "¡tánta industria novísima! ¡tánto almacén enorme...!\n",
    "Pero es tan bello ver fugarse los crepúsculos...\n",
    "```\n",
    "\n",
    "(*Tergiversaciones de Leo Legris-Matías Aldecoa y Gaspar*, 1925)\n",
    "\n",
    "\n",
    "<img src=\"leon.jpg\" alt=\"León de Greiff\" width=\"500\"> \n",
    "\n",
    "<br/>"
   ]
  },
  {
   "cell_type": "code",
   "execution_count": null,
   "id": "549bc11a-0e32-4c8c-acaf-fdeab672722c",
   "metadata": {},
   "outputs": [],
   "source": []
  },
  {
   "cell_type": "markdown",
   "id": "b359bbf0-de14-4d09-9cb1-33d9d7f4c879",
   "metadata": {},
   "source": [
    "# Generador de imágenes IA\n",
    "https://deepai.org/machine-learning-model/text2img"
   ]
  },
  {
   "cell_type": "markdown",
   "id": "490beb20-7655-4900-afc3-34016d89d0b7",
   "metadata": {},
   "source": [
    "# Modelos de lenguaje de gran tamaño (LLM)\n",
    "- https://chatgpt.com/\n",
    "- https://gemini.google.com/app\n",
    "- https://copilot.microsoft.com"
   ]
  },
  {
   "cell_type": "code",
   "execution_count": null,
   "id": "fa6cbb33-5de6-4279-a173-d2305c1bc889",
   "metadata": {},
   "outputs": [],
   "source": []
  }
 ],
 "metadata": {
  "kernelspec": {
   "display_name": "Python 3 (ipykernel)",
   "language": "python",
   "name": "python3"
  },
  "language_info": {
   "codemirror_mode": {
    "name": "ipython",
    "version": 3
   },
   "file_extension": ".py",
   "mimetype": "text/x-python",
   "name": "python",
   "nbconvert_exporter": "python",
   "pygments_lexer": "ipython3",
   "version": "3.13.7"
  }
 },
 "nbformat": 4,
 "nbformat_minor": 5
}
